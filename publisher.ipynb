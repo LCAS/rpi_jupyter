{
 "cells": [
  {
   "cell_type": "code",
   "execution_count": 1,
   "metadata": {},
   "outputs": [],
   "source": [
    "import rospy\n",
    "from std_msgs.msg import String\n",
    "\n",
    "rospy.init_node('publisher', anonymous=True)\n",
    "\n",
    "\n",
    "p = rospy.Publisher('/foo', String, queue_size=1)\n",
    "\n",
    "while not rospy.is_shutdown():\n",
    "    text = String()\n",
    "    text.data = 'hello world'\n",
    "    p.publish(text)\n",
    "    print 'published text'\n",
    "    rospy.sleep(1)"
   ]
  }
 ],
 "metadata": {
  "kernelspec": {
   "display_name": "Python 2",
   "language": "python",
   "name": "python2"
  },
  "language_info": {
   "codemirror_mode": {
    "name": "ipython",
    "version": 2
   },
   "file_extension": ".py",
   "mimetype": "text/x-python",
   "name": "python",
   "nbconvert_exporter": "python",
   "pygments_lexer": "ipython2",
   "version": "2.7.12"
  }
 },
 "nbformat": 4,
 "nbformat_minor": 2
}
